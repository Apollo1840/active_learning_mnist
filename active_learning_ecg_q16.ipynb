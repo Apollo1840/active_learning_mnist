{
 "cells": [
  {
   "cell_type": "code",
   "execution_count": 1,
   "id": "86b74c0e",
   "metadata": {},
   "outputs": [],
   "source": [
    "%%capture\n",
    "from source.active_learning.active_learning_ecg import *"
   ]
  },
  {
   "cell_type": "code",
   "execution_count": 2,
   "id": "a807bcc1",
   "metadata": {},
   "outputs": [
    {
     "name": "stderr",
     "output_type": "stream",
     "text": [
      "\r",
      "  0%|          | 0/6 [00:00<?, ?it/s]"
     ]
    },
    {
     "name": "stdout",
     "output_type": "stream",
     "text": [
      "warning, large RAM consumption!\n"
     ]
    },
    {
     "name": "stderr",
     "output_type": "stream",
     "text": [
      "100%|██████████| 6/6 [00:03<00:00,  1.73it/s]\n"
     ]
    }
   ],
   "source": [
    "# prepare data\n",
    "es = ECGStream.from_(CSN2022)\n",
    "es = es.shuffle()\n",
    "num_max = (len(es))\n",
    "es1000 = es.sub_es(range(min(1000, num_max)))\n",
    "es = es.shuffle()\n",
    "es100 = es.sub_es(range(min(100, num_max)))\n",
    "\n",
    "label_encoder = LabelEncoder(CSN2022_LABELS)\n",
    "func_ecg2x = lambda ecg: ecg.data.T[:, 0].reshape((-1, 1))\n",
    "func_ecg2y = lambda ecg: label_encoder.label2y_single(ecg.label, onehot=True) if ecg.label else np.zeros(len(CSN2022_LABELS))\n",
    "digitizer = ESDigitizer(16, func_ecg2x, func_ecg2y)\n",
    "train_gen = digitizer.digitize_es(es1000)\n",
    "test_gen = digitizer.digitize_es(es100)\n",
    "x_test, y_test = test_gen.to_xy()\n",
    "data = train_gen, x_test, y_test\n",
    "\n",
    "m = es1000[0].data.shape[1]\n",
    "n = len(CSN2022_LABELS)"
   ]
  },
  {
   "cell_type": "code",
   "execution_count": 3,
   "id": "354775d6",
   "metadata": {},
   "outputs": [
    {
     "name": "stdout",
     "output_type": "stream",
     "text": [
      "Training data size of 16 => accuracy 0.000000\n",
      "Training data size of 32 => accuracy 0.000000\n",
      "Training data size of 48 => accuracy 0.000000\n",
      "Training data size of 64 => accuracy 0.000000\n",
      "Training data size of 80 => accuracy 0.000000\n",
      "Training data size of 96 => accuracy 0.010417\n",
      "Training data size of 112 => accuracy 0.104167\n",
      "Training data size of 128 => accuracy 0.187500\n",
      "Training data size of 144 => accuracy 0.281250\n",
      "Training data size of 160 => accuracy 0.364583\n",
      "Training data size of 176 => accuracy 0.354167\n",
      "Training data size of 192 => accuracy 0.375000\n",
      "Training data size of 208 => accuracy 0.375000\n",
      "Training data size of 224 => accuracy 0.364583\n",
      "Training data size of 240 => accuracy 0.364583\n",
      "Training data size of 256 => accuracy 0.364583\n",
      "Training data size of 272 => accuracy 0.375000\n",
      "Training data size of 288 => accuracy 0.447917\n",
      "Training data size of 304 => accuracy 0.395833\n",
      "Training data size of 320 => accuracy 0.562500\n",
      "Training data size of 336 => accuracy 0.635417\n",
      "Training data size of 352 => accuracy 0.531250\n",
      "Training data size of 368 => accuracy 0.635417\n",
      "Training data size of 384 => accuracy 0.635417\n",
      "Training data size of 400 => accuracy 0.635417\n",
      "Training data size of 416 => accuracy 0.625000\n",
      "Training data size of 432 => accuracy 0.656250\n",
      "Training data size of 448 => accuracy 0.635417\n",
      "Training data size of 464 => accuracy 0.645833\n",
      "Training data size of 480 => accuracy 0.635417\n",
      "Training data size of 496 => accuracy 0.625000\n",
      "Training data size of 512 => accuracy 0.666667\n",
      "Training data size of 528 => accuracy 0.635417\n",
      "Training data size of 544 => accuracy 0.687500\n",
      "Training data size of 560 => accuracy 0.333333\n",
      "Training data size of 576 => accuracy 0.687500\n",
      "Training data size of 592 => accuracy 0.697917\n",
      "Training data size of 608 => accuracy 0.687500\n",
      "Training data size of 624 => accuracy 0.697917\n",
      "Training data size of 640 => accuracy 0.687500\n",
      "- finished -\n",
      "Training data size of 16 => accuracy 0.083333\n",
      "Training data size of 32 => accuracy 0.083333\n",
      "Training data size of 48 => accuracy 0.000000\n",
      "Training data size of 64 => accuracy 0.031250\n",
      "Training data size of 80 => accuracy 0.000000\n",
      "Training data size of 96 => accuracy 0.010417\n",
      "Training data size of 112 => accuracy 0.052083\n",
      "Training data size of 128 => accuracy 0.270833\n",
      "Training data size of 144 => accuracy 0.322917\n",
      "Training data size of 160 => accuracy 0.375000\n",
      "Training data size of 176 => accuracy 0.364583\n",
      "Training data size of 192 => accuracy 0.364583\n",
      "Training data size of 208 => accuracy 0.364583\n",
      "Training data size of 224 => accuracy 0.364583\n",
      "Training data size of 240 => accuracy 0.364583\n",
      "Training data size of 256 => accuracy 0.364583\n",
      "Training data size of 272 => accuracy 0.364583\n",
      "Training data size of 288 => accuracy 0.562500\n",
      "Training data size of 304 => accuracy 0.510417\n",
      "Training data size of 320 => accuracy 0.604167\n",
      "Training data size of 336 => accuracy 0.593750\n",
      "Training data size of 352 => accuracy 0.593750\n",
      "Training data size of 368 => accuracy 0.625000\n",
      "Training data size of 384 => accuracy 0.656250\n",
      "Training data size of 400 => accuracy 0.645833\n",
      "Training data size of 416 => accuracy 0.645833\n",
      "Training data size of 432 => accuracy 0.572917\n",
      "Training data size of 448 => accuracy 0.666667\n",
      "Training data size of 464 => accuracy 0.656250\n",
      "Training data size of 480 => accuracy 0.708333\n",
      "Training data size of 496 => accuracy 0.687500\n",
      "Training data size of 512 => accuracy 0.656250\n",
      "Training data size of 528 => accuracy 0.677083\n",
      "Training data size of 544 => accuracy 0.677083\n",
      "Training data size of 560 => accuracy 0.677083\n",
      "Training data size of 576 => accuracy 0.687500\n",
      "Training data size of 592 => accuracy 0.666667\n",
      "Training data size of 608 => accuracy 0.666667\n",
      "Training data size of 624 => accuracy 0.677083\n",
      "Training data size of 640 => accuracy 0.697917\n",
      "- finished -\n",
      "Training data size of 16 => accuracy 0.000000\n",
      "Training data size of 32 => accuracy 0.000000\n",
      "Training data size of 48 => accuracy 0.000000\n",
      "Training data size of 64 => accuracy 0.041667\n",
      "Training data size of 80 => accuracy 0.010417\n",
      "Training data size of 96 => accuracy 0.041667\n",
      "Training data size of 112 => accuracy 0.145833\n",
      "Training data size of 128 => accuracy 0.239583\n",
      "Training data size of 144 => accuracy 0.312500\n",
      "Training data size of 160 => accuracy 0.343750\n",
      "Training data size of 176 => accuracy 0.375000\n",
      "Training data size of 192 => accuracy 0.364583\n",
      "Training data size of 208 => accuracy 0.385417\n",
      "Training data size of 224 => accuracy 0.385417\n",
      "Training data size of 240 => accuracy 0.395833\n",
      "Training data size of 256 => accuracy 0.375000\n",
      "Training data size of 272 => accuracy 0.364583\n",
      "Training data size of 288 => accuracy 0.406250\n",
      "Training data size of 304 => accuracy 0.375000\n",
      "Training data size of 320 => accuracy 0.479167\n",
      "Training data size of 336 => accuracy 0.572917\n",
      "Training data size of 352 => accuracy 0.614583\n",
      "Training data size of 368 => accuracy 0.635417\n",
      "Training data size of 384 => accuracy 0.635417\n",
      "Training data size of 400 => accuracy 0.666667\n",
      "Training data size of 416 => accuracy 0.625000\n",
      "Training data size of 432 => accuracy 0.645833\n",
      "Training data size of 448 => accuracy 0.645833\n",
      "Training data size of 464 => accuracy 0.677083\n",
      "Training data size of 480 => accuracy 0.656250\n",
      "Training data size of 496 => accuracy 0.656250\n",
      "Training data size of 512 => accuracy 0.645833\n",
      "Training data size of 528 => accuracy 0.677083\n",
      "Training data size of 544 => accuracy 0.677083\n",
      "Training data size of 560 => accuracy 0.697917\n",
      "Training data size of 576 => accuracy 0.645833\n",
      "Training data size of 592 => accuracy 0.677083\n",
      "Training data size of 608 => accuracy 0.697917\n",
      "Training data size of 624 => accuracy 0.677083\n",
      "Training data size of 640 => accuracy 0.677083\n",
      "- finished -\n",
      "Training data size of 16 => accuracy 0.000000\n",
      "Training data size of 32 => accuracy 0.000000\n",
      "Training data size of 48 => accuracy 0.000000\n",
      "Training data size of 64 => accuracy 0.000000\n",
      "Training data size of 80 => accuracy 0.031250\n",
      "Training data size of 96 => accuracy 0.052083\n",
      "Training data size of 112 => accuracy 0.229167\n",
      "Training data size of 128 => accuracy 0.302083\n",
      "Training data size of 144 => accuracy 0.354167\n",
      "Training data size of 160 => accuracy 0.375000\n",
      "Training data size of 176 => accuracy 0.375000\n",
      "Training data size of 192 => accuracy 0.375000\n",
      "Training data size of 208 => accuracy 0.375000\n",
      "Training data size of 224 => accuracy 0.364583\n",
      "Training data size of 240 => accuracy 0.364583\n",
      "Training data size of 256 => accuracy 0.364583\n",
      "Training data size of 272 => accuracy 0.364583\n",
      "Training data size of 288 => accuracy 0.364583\n",
      "Training data size of 304 => accuracy 0.364583\n",
      "Training data size of 320 => accuracy 0.375000\n",
      "Training data size of 336 => accuracy 0.385417\n",
      "Training data size of 352 => accuracy 0.427083\n",
      "Training data size of 368 => accuracy 0.385417\n",
      "Training data size of 384 => accuracy 0.604167\n",
      "Training data size of 400 => accuracy 0.614583\n",
      "Training data size of 416 => accuracy 0.635417\n",
      "Training data size of 432 => accuracy 0.656250\n",
      "Training data size of 448 => accuracy 0.645833\n",
      "Training data size of 464 => accuracy 0.656250\n",
      "Training data size of 480 => accuracy 0.656250\n",
      "Training data size of 496 => accuracy 0.562500\n",
      "Training data size of 512 => accuracy 0.614583\n",
      "Training data size of 528 => accuracy 0.687500\n",
      "Training data size of 544 => accuracy 0.697917\n",
      "Training data size of 560 => accuracy 0.687500\n",
      "Training data size of 576 => accuracy 0.677083\n",
      "Training data size of 592 => accuracy 0.687500\n",
      "Training data size of 608 => accuracy 0.677083\n",
      "Training data size of 624 => accuracy 0.614583\n",
      "Training data size of 640 => accuracy 0.697917\n",
      "- finished -\n"
     ]
    }
   ],
   "source": [
    "# get results of different AL method\n",
    "acc_baseline = eval_prioritization_strategy(data, KerasRobustCNN3(m, 1, n), trivial_strategy)\n",
    "acc_entropy = eval_prioritization_strategy(data, KerasRobustCNN3(m, 1, n), max_entropy_strategy)\n",
    "acc_bt = eval_prioritization_strategy(data, KerasRobustCNN3(m, 1, n), least_margin_strategy)\n",
    "acc_vr = eval_prioritization_strategy(data, KerasRobustCNN3(m, 1, n), least_confidence_strategy)"
   ]
  },
  {
   "cell_type": "code",
   "execution_count": 4,
   "id": "86a2ba14",
   "metadata": {},
   "outputs": [
    {
     "data": {
      "text/plain": [
       "<matplotlib.legend.Legend at 0x7fdf9c166df0>"
      ]
     },
     "execution_count": 4,
     "metadata": {},
     "output_type": "execute_result"
    },
    {
     "data": {
      "image/png": "[encoded data removed]",
      "text/plain": [
       "<Figure size 576x396 with 1 Axes>"
      ]
     },
     "metadata": {},
     "output_type": "display_data"
    }
   ],
   "source": [
    "# visualize the performance difference\n",
    "plt.plot(acc_baseline, 'k', label='baseline')\n",
    "plt.plot(acc_vr, 'b', label='least confidence')\n",
    "plt.plot(acc_entropy, 'g', label='highest entropy')\n",
    "plt.plot(acc_bt, 'r', label='least margin')\n",
    "plt.legend()"
   ]
  },
  {
   "cell_type": "code",
   "execution_count": null,
   "id": "7453850f",
   "metadata": {},
   "outputs": [],
   "source": []
  }
 ],
 "metadata": {
  "kernelspec": {
   "display_name": "congyutf",
   "language": "python",
   "name": "congyutf"
  },
  "language_info": {
   "codemirror_mode": {
    "name": "ipython",
    "version": 3
   },
   "file_extension": ".py",
   "mimetype": "text/x-python",
   "name": "python",
   "nbconvert_exporter": "python",
   "pygments_lexer": "ipython3",
   "version": "3.9.5"
  }
 },
 "nbformat": 4,
 "nbformat_minor": 5
}
