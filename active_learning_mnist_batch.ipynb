{
 "cells": [
  {
   "cell_type": "code",
   "execution_count": 1,
   "id": "86b74c0e",
   "metadata": {},
   "outputs": [],
   "source": [
    "%%capture\n",
    "from source.active_learning.active_learning_mnist_batch import *"
   ]
  },
  {
   "cell_type": "code",
   "execution_count": 2,
   "id": "e982d520",
   "metadata": {},
   "outputs": [],
   "source": [
    "def cnn():\n",
    "    model = tf.keras.models.Sequential([\n",
    "        tf.keras.layers.InputLayer(input_shape=(28, 28, 1)),\n",
    "        tf.keras.layers.Conv2D(32, kernel_size=(3, 3), activation=\"relu\"),\n",
    "        tf.keras.layers.MaxPooling2D(pool_size=(2, 2)),\n",
    "        tf.keras.layers.Conv2D(64, kernel_size=(3, 3), activation=\"relu\"),\n",
    "        tf.keras.layers.MaxPooling2D(pool_size=(2, 2)),\n",
    "        tf.keras.layers.Flatten(),\n",
    "        tf.keras.layers.Dense(128, activation=\"relu\"),\n",
    "        tf.keras.layers.Dense(10, activation=\"softmax\")\n",
    "    ])\n",
    "\n",
    "    model.compile(optimizer=\"adam\", loss=\"sparse_categorical_crossentropy\", metrics=[\"accuracy\"])\n",
    "    return model"
   ]
  },
  {
   "cell_type": "code",
   "execution_count": 3,
   "id": "be435502",
   "metadata": {},
   "outputs": [],
   "source": [
    "\n",
    "def dropout_weights(weights, ratio):\n",
    "    dropout_mask = [np.random.binomial(1, 1 - ratio, w.shape) for w in weights]\n",
    "    return [w * mask for w, mask in zip(weights, dropout_mask)]\n",
    "\n",
    "\n",
    "def eval_prioritization_strategy(data, model, prioritizer, verbose=True):\n",
    "    \"\"\"\n",
    "\n",
    "    :param model:\n",
    "    :param prioritizer: lamdba: indices, predictions: sorted indices, ie. query strategy\n",
    "    :return:\n",
    "    \"\"\"\n",
    "    query_steps = 20\n",
    "    query_size = 16\n",
    "\n",
    "    x_train, y_train, x_test, y_test = data\n",
    "\n",
    "    train_indices = range(60000)\n",
    "\n",
    "    # First subset of data\n",
    "    selected_indices = train_indices[0:query_size]\n",
    "    x_train_subset = x_train[selected_indices, ...]\n",
    "    y_train_subset = y_train[selected_indices, ...]\n",
    "\n",
    "    test_accuracies = []\n",
    "    for i in range(query_steps):\n",
    "        selected_indices = train_indices[0:query_size]\n",
    "\n",
    "        if i > 0:\n",
    "            x_train_subset = np.concatenate((x_train_subset, x_train[selected_indices, ...]))\n",
    "            y_train_subset = np.concatenate((y_train_subset, y_train[selected_indices, ...]))\n",
    "\n",
    "        model.fit(x_train_subset, y_train_subset, epochs=5, verbose=0)\n",
    "\n",
    "        loss, accuracy = model.evaluate(x_test, y_test, verbose=0)\n",
    "        test_accuracies.append(accuracy)\n",
    "\n",
    "        if verbose:\n",
    "            print('Training data size of %d => accuracy %f' % (x_train_subset.shape[0], accuracy))\n",
    "\n",
    "        # prepare for the next step of the loop\n",
    "        rest_indices = train_indices[query_size:]\n",
    "\n",
    "        # copy the models 5 times, all weights of the model is dropout with a ratio of 0.2:\n",
    "        predictions = []\n",
    "        for i in range(5):\n",
    "            mc_model = tf.keras.models.clone_model(model)\n",
    "            dropped_out_weights = dropout_weights(mc_model.get_weights(), 0.2)\n",
    "            mc_model.set_weights(dropped_out_weights)\n",
    "            predictions.append(mc_model.predict(x_train[rest_indices, ...]))\n",
    "\n",
    "        predictions = np.transpose(predictions, (1, 0, 2))  # return (N_samples, K_models, C_classes)\n",
    "        train_indices = prioritizer(rest_indices, predictions, query_size)\n",
    "\n",
    "    print(\"- finished -\")\n",
    "    return test_accuracies"
   ]
  },
  {
   "cell_type": "code",
   "execution_count": 4,
   "id": "a807bcc1",
   "metadata": {},
   "outputs": [],
   "source": [
    "# prepare data\n",
    "mnist = tf.keras.datasets.mnist\n",
    "(x_train, y_train), (x_test, y_test) = mnist.load_data()\n",
    "x_train = x_train.reshape(-1, 28, 28, 1) / 255.0\n",
    "x_test = x_test.reshape(-1, 28, 28, 1) / 255.0\n",
    "data = x_train, y_train, x_test, y_test"
   ]
  },
  {
   "cell_type": "code",
   "execution_count": null,
   "id": "354775d6",
   "metadata": {},
   "outputs": [
    {
     "name": "stdout",
     "output_type": "stream",
     "text": [
      "Training data size of 16 => accuracy 0.306500\n",
      "Training data size of 32 => accuracy 0.430200\n",
      "Training data size of 48 => accuracy 0.567700\n",
      "Training data size of 64 => accuracy 0.612400\n",
      "Training data size of 80 => accuracy 0.647700\n",
      "Training data size of 96 => accuracy 0.663800\n",
      "Training data size of 112 => accuracy 0.700600\n",
      "Training data size of 128 => accuracy 0.712200\n",
      "Training data size of 144 => accuracy 0.729200\n",
      "Training data size of 160 => accuracy 0.737500\n",
      "Training data size of 176 => accuracy 0.746200\n"
     ]
    }
   ],
   "source": [
    "# get results of different AL method\n",
    "acc_baseline = eval_prioritization_strategy(data, mlp_classifier(), trivial_strategy)\n",
    "acc_bald = eval_prioritization_strategy(data, mlp_classifier(), bald_strategy)\n",
    "acc_batchbald = eval_prioritization_strategy(data, mlp_classifier(), batchbald_strategy)\n"
   ]
  },
  {
   "cell_type": "code",
   "execution_count": null,
   "id": "86a2ba14",
   "metadata": {},
   "outputs": [],
   "source": [
    "\n",
    "# visualize the performance difference\n",
    "plt.plot(acc_baseline, 'k', label='baseline')\n",
    "plt.plot(acc_bald, 'b', label='bald')\n",
    "plt.plot(acc_batchbald, 'g', label='batchbald')\n",
    "plt.legend()\n"
   ]
  },
  {
   "cell_type": "code",
   "execution_count": null,
   "id": "7453850f",
   "metadata": {},
   "outputs": [],
   "source": []
  }
 ],
 "metadata": {
  "kernelspec": {
   "display_name": "congyutf",
   "language": "python",
   "name": "congyutf"
  },
  "language_info": {
   "codemirror_mode": {
    "name": "ipython",
    "version": 3
   },
   "file_extension": ".py",
   "mimetype": "text/x-python",
   "name": "python",
   "nbconvert_exporter": "python",
   "pygments_lexer": "ipython3",
   "version": "3.9.5"
  }
 },
 "nbformat": 4,
 "nbformat_minor": 5
}
