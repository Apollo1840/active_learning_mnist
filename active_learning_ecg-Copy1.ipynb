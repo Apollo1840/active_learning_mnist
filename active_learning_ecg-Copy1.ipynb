{
 "cells": [
  {
   "cell_type": "code",
   "execution_count": 1,
   "id": "86b74c0e",
   "metadata": {},
   "outputs": [],
   "source": [
    "%%capture\n",
    "from source.active_learning.active_learning_ecg import *"
   ]
  },
  {
   "cell_type": "code",
   "execution_count": null,
   "id": "781f4cc3",
   "metadata": {},
   "outputs": [],
   "source": [
    "\n",
    "def eval_prioritization_strategy(data, model, prioritizer, verbose=True):\n",
    "    \"\"\"\n",
    "    :param model:\n",
    "    :param prioritizer: lambda: indices, predictions: sorted indices\n",
    "    :return:\n",
    "    \"\"\"\n",
    "    query_steps = 15\n",
    "    query_size = 64\n",
    "\n",
    "    train_gen, x_test, y_test = data\n",
    "\n",
    "    # Get the initial training data\n",
    "    train_indices = list(range(len(train_gen) * train_gen.batch_size))\n",
    "\n",
    "    # Select the first query_size samples as the initial training set\n",
    "    annotated_indices = train_indices[:query_size]\n",
    "    train_gen_selected = train_gen.remake_on(train_gen.ml_ecgbatchs.sub_es(annotated_indices))\n",
    "\n",
    "    test_accuracies = []\n",
    "    for i in range(query_steps):\n",
    "\n",
    "        # Train the model on the selected data\n",
    "        model.fit(train_gen_selected, epochs=5, verbose=0)\n",
    "\n",
    "        # Evaluate the model on the test set\n",
    "        eval = model.evaluate(x_test, y_test, verbose=0)\n",
    "        test_accuracies.append(eval[1])\n",
    "\n",
    "        if verbose:\n",
    "            print('Training data size of %d => accuracy %f' % (\n",
    "                train_gen_selected.batch_size * train_gen_selected.n_batch, eval[1]))\n",
    "\n",
    "        # Prepare for the next step of the loop\n",
    "\n",
    "        # Create an UnlabeledDataLoader with the remaining indices\n",
    "        unlabeled_data_loader = UnlabeledDataLoader(train_gen, train_indices, annotated_indices)\n",
    "\n",
    "        # Make predictions on the unlabeled data\n",
    "        predictions = model.predict(unlabeled_data_loader)\n",
    "\n",
    "        # Apply the prioritizer to select the next batch of samples to annotate\n",
    "        selected_indices = prioritizer(unlabeled_data_loader.unlabeled_indices, predictions)[:query_size]\n",
    "\n",
    "        # Update the annotated_indices with the new selected_indices\n",
    "        annotated_indices.extend(selected_indices)\n",
    "\n",
    "        # Update the train_gen_selected with the updated annotated_indices\n",
    "        train_gen_selected = train_gen.remake_on(train_gen.ml_ecgbatchs.sub_es(annotated_indices))\n",
    "\n",
    "    print(\"- finished -\")\n",
    "    return test_accuracies"
   ]
  },
  {
   "cell_type": "code",
   "execution_count": 2,
   "id": "a807bcc1",
   "metadata": {},
   "outputs": [
    {
     "name": "stderr",
     "output_type": "stream",
     "text": [
      "\r",
      "  0%|          | 0/6 [00:00<?, ?it/s]"
     ]
    },
    {
     "name": "stdout",
     "output_type": "stream",
     "text": [
      "warning, large RAM consumption!\n"
     ]
    },
    {
     "name": "stderr",
     "output_type": "stream",
     "text": [
      "100%|██████████| 6/6 [00:02<00:00,  2.04it/s]\n"
     ]
    }
   ],
   "source": [
    "# prepare data\n",
    "es = ECGStream.from_(CSN2022)\n",
    "es = es.shuffle()\n",
    "num_max = (len(es))\n",
    "es1000 = es.sub_es(range(min(1000, num_max)))\n",
    "es = es.shuffle()\n",
    "es100 = es.sub_es(range(min(100, num_max)))\n",
    "\n",
    "label_encoder = LabelEncoder(CSN2022_LABELS)\n",
    "func_ecg2x = lambda ecg: ecg.data.T[:, 0].reshape((-1, 1))\n",
    "func_ecg2y = lambda ecg: label_encoder.label2y_single(ecg.label, onehot=True) if ecg.label else np.zeros(len(CSN2022_LABELS))\n",
    "digitizer = ESDigitizer(16, func_ecg2x, func_ecg2y)\n",
    "train_gen = digitizer.digitize_es(es1000)\n",
    "test_gen = digitizer.digitize_es(es100)\n",
    "x_test, y_test = test_gen.to_xy()\n",
    "data = train_gen, x_test, y_test\n",
    "\n",
    "m = es1000[0].data.shape[1]\n",
    "n = len(CSN2022_LABELS)"
   ]
  },
  {
   "cell_type": "code",
   "execution_count": 3,
   "id": "354775d6",
   "metadata": {},
   "outputs": [
    {
     "name": "stdout",
     "output_type": "stream",
     "text": [
      "Training data size of 32 => accuracy 0.000000\n",
      "Training data size of 64 => accuracy 0.000000\n",
      "Training data size of 96 => accuracy 0.000000\n",
      "Training data size of 128 => accuracy 0.010417\n",
      "Training data size of 160 => accuracy 0.197917\n",
      "Training data size of 192 => accuracy 0.364583\n",
      "Training data size of 224 => accuracy 0.437500\n",
      "Training data size of 240 => accuracy 0.427083\n",
      "Training data size of 272 => accuracy 0.447917\n",
      "Training data size of 304 => accuracy 0.427083\n",
      "Training data size of 336 => accuracy 0.458333\n",
      "Training data size of 368 => accuracy 0.500000\n",
      "Training data size of 400 => accuracy 0.437500\n",
      "Training data size of 432 => accuracy 0.458333\n",
      "Training data size of 464 => accuracy 0.468750\n",
      "Training data size of 480 => accuracy 0.593750\n",
      "Training data size of 512 => accuracy 0.562500\n",
      "Training data size of 544 => accuracy 0.583333\n",
      "Training data size of 576 => accuracy 0.645833\n",
      "Training data size of 608 => accuracy 0.750000\n",
      "Training data size of 640 => accuracy 0.718750\n",
      "Training data size of 672 => accuracy 0.708333\n",
      "Training data size of 704 => accuracy 0.718750\n",
      "Training data size of 720 => accuracy 0.708333\n",
      "Training data size of 752 => accuracy 0.729167\n",
      "Training data size of 784 => accuracy 0.750000\n",
      "Training data size of 816 => accuracy 0.729167\n",
      "Training data size of 848 => accuracy 0.760417\n",
      "Training data size of 880 => accuracy 0.760417\n",
      "Training data size of 912 => accuracy 0.760417\n",
      "Training data size of 944 => accuracy 0.760417\n",
      "Training data size of 960 => accuracy 0.770833\n",
      "- finished -\n",
      "Training data size of 32 => accuracy 0.000000\n",
      "Training data size of 64 => accuracy 0.000000\n",
      "Training data size of 96 => accuracy 0.020833\n",
      "Training data size of 128 => accuracy 0.000000\n",
      "Training data size of 160 => accuracy 0.041667\n",
      "Training data size of 192 => accuracy 0.322917\n",
      "Training data size of 224 => accuracy 0.458333\n",
      "Training data size of 240 => accuracy 0.458333\n",
      "Training data size of 272 => accuracy 0.427083\n",
      "Training data size of 304 => accuracy 0.437500\n",
      "Training data size of 336 => accuracy 0.437500\n",
      "Training data size of 368 => accuracy 0.437500\n",
      "Training data size of 400 => accuracy 0.437500\n",
      "Training data size of 432 => accuracy 0.447917\n",
      "Training data size of 464 => accuracy 0.322917\n",
      "Training data size of 480 => accuracy 0.416667\n",
      "Training data size of 512 => accuracy 0.416667\n"
     ]
    },
    {
     "name": "stderr",
     "output_type": "stream",
     "text": [
      "/home/congyu/congyu_program/pythons/inits/k_active_learning/source/active_learning/active_learning_mnist.py:63: RuntimeWarning: divide by zero encountered in log\n",
      "  p = predictions * np.log(predictions)\n",
      "/home/congyu/congyu_program/pythons/inits/k_active_learning/source/active_learning/active_learning_mnist.py:63: RuntimeWarning: invalid value encountered in multiply\n",
      "  p = predictions * np.log(predictions)\n"
     ]
    },
    {
     "name": "stdout",
     "output_type": "stream",
     "text": [
      "Training data size of 544 => accuracy 0.427083\n",
      "Training data size of 576 => accuracy 0.583333\n",
      "Training data size of 608 => accuracy 0.520833\n",
      "Training data size of 640 => accuracy 0.604167\n",
      "Training data size of 672 => accuracy 0.447917\n",
      "Training data size of 704 => accuracy 0.666667\n",
      "Training data size of 720 => accuracy 0.656250\n",
      "Training data size of 752 => accuracy 0.145833\n",
      "Training data size of 784 => accuracy 0.666667\n",
      "Training data size of 816 => accuracy 0.635417\n",
      "Training data size of 848 => accuracy 0.729167\n",
      "Training data size of 880 => accuracy 0.572917\n",
      "Training data size of 912 => accuracy 0.697917\n",
      "Training data size of 944 => accuracy 0.614583\n",
      "Training data size of 960 => accuracy 0.729167\n",
      "- finished -\n",
      "Training data size of 32 => accuracy 0.000000\n",
      "Training data size of 64 => accuracy 0.020833\n",
      "Training data size of 96 => accuracy 0.135417\n",
      "Training data size of 128 => accuracy 0.156250\n",
      "Training data size of 160 => accuracy 0.250000\n",
      "Training data size of 192 => accuracy 0.437500\n",
      "Training data size of 224 => accuracy 0.427083\n",
      "Training data size of 240 => accuracy 0.489583\n",
      "Training data size of 272 => accuracy 0.479167\n",
      "Training data size of 304 => accuracy 0.479167\n",
      "Training data size of 336 => accuracy 0.489583\n",
      "Training data size of 368 => accuracy 0.427083\n",
      "Training data size of 400 => accuracy 0.520833\n",
      "Training data size of 432 => accuracy 0.520833\n",
      "Training data size of 464 => accuracy 0.427083\n",
      "Training data size of 480 => accuracy 0.552083\n",
      "Training data size of 512 => accuracy 0.583333\n",
      "Training data size of 544 => accuracy 0.677083\n",
      "Training data size of 576 => accuracy 0.666667\n",
      "Training data size of 608 => accuracy 0.656250\n",
      "Training data size of 640 => accuracy 0.604167\n",
      "Training data size of 672 => accuracy 0.562500\n",
      "Training data size of 704 => accuracy 0.635417\n",
      "Training data size of 720 => accuracy 0.718750\n",
      "Training data size of 752 => accuracy 0.760417\n",
      "Training data size of 784 => accuracy 0.635417\n",
      "Training data size of 816 => accuracy 0.750000\n",
      "Training data size of 848 => accuracy 0.729167\n",
      "Training data size of 880 => accuracy 0.750000\n",
      "Training data size of 912 => accuracy 0.760417\n",
      "Training data size of 944 => accuracy 0.750000\n",
      "Training data size of 960 => accuracy 0.760417\n",
      "- finished -\n",
      "Training data size of 32 => accuracy 0.000000\n",
      "Training data size of 64 => accuracy 0.031250\n",
      "Training data size of 96 => accuracy 0.000000\n",
      "Training data size of 128 => accuracy 0.145833\n",
      "Training data size of 160 => accuracy 0.250000\n",
      "Training data size of 192 => accuracy 0.427083\n",
      "Training data size of 224 => accuracy 0.416667\n",
      "Training data size of 240 => accuracy 0.416667\n",
      "Training data size of 272 => accuracy 0.416667\n",
      "Training data size of 304 => accuracy 0.427083\n",
      "Training data size of 336 => accuracy 0.447917\n",
      "Training data size of 368 => accuracy 0.572917\n",
      "Training data size of 400 => accuracy 0.614583\n",
      "Training data size of 432 => accuracy 0.572917\n",
      "Training data size of 464 => accuracy 0.552083\n",
      "Training data size of 480 => accuracy 0.625000\n",
      "Training data size of 512 => accuracy 0.635417\n",
      "Training data size of 544 => accuracy 0.687500\n",
      "Training data size of 576 => accuracy 0.666667\n",
      "Training data size of 608 => accuracy 0.739583\n",
      "Training data size of 640 => accuracy 0.739583\n",
      "Training data size of 672 => accuracy 0.739583\n",
      "Training data size of 704 => accuracy 0.750000\n",
      "Training data size of 720 => accuracy 0.760417\n",
      "Training data size of 752 => accuracy 0.760417\n",
      "Training data size of 784 => accuracy 0.760417\n",
      "Training data size of 816 => accuracy 0.760417\n",
      "Training data size of 848 => accuracy 0.750000\n",
      "Training data size of 880 => accuracy 0.760417\n",
      "Training data size of 912 => accuracy 0.750000\n",
      "Training data size of 944 => accuracy 0.750000\n",
      "Training data size of 960 => accuracy 0.729167\n",
      "- finished -\n"
     ]
    }
   ],
   "source": [
    "# get results of different AL method\n",
    "acc_baseline = eval_prioritization_strategy(data, KerasRobustCNN3(m, 1, n), trivial_strategy)\n",
    "acc_entropy = eval_prioritization_strategy(data, KerasRobustCNN3(m, 1, n), max_entropy_strategy)\n",
    "acc_bt = eval_prioritization_strategy(data, KerasRobustCNN3(m, 1, n), least_margin_strategy)\n",
    "acc_vr = eval_prioritization_strategy(data, KerasRobustCNN3(m, 1, n), least_confidence_strategy)"
   ]
  },
  {
   "cell_type": "code",
   "execution_count": 4,
   "id": "86a2ba14",
   "metadata": {},
   "outputs": [
    {
     "data": {
      "text/plain": [
       "<matplotlib.legend.Legend at 0x7f17e0228070>"
      ]
     },
     "execution_count": 4,
     "metadata": {},
     "output_type": "execute_result"
    },
    {
     "data": {
      "image/png": "[encoded data removed]",
      "text/plain": [
       "<Figure size 576x396 with 1 Axes>"
      ]
     },
     "metadata": {},
     "output_type": "display_data"
    }
   ],
   "source": [
    "# visualize the performance difference\n",
    "plt.plot(acc_baseline, 'k', label='baseline')\n",
    "plt.plot(acc_vr, 'b', label='least confidence')\n",
    "plt.plot(acc_entropy, 'g', label='highest entropy')\n",
    "plt.plot(acc_bt, 'r', label='least margin')\n",
    "plt.legend()"
   ]
  },
  {
   "cell_type": "code",
   "execution_count": null,
   "id": "7453850f",
   "metadata": {},
   "outputs": [],
   "source": []
  }
 ],
 "metadata": {
  "kernelspec": {
   "display_name": "congyutf",
   "language": "python",
   "name": "congyutf"
  },
  "language_info": {
   "codemirror_mode": {
    "name": "ipython",
    "version": 3
   },
   "file_extension": ".py",
   "mimetype": "text/x-python",
   "name": "python",
   "nbconvert_exporter": "python",
   "pygments_lexer": "ipython3",
   "version": "3.9.5"
  }
 },
 "nbformat": 4,
 "nbformat_minor": 5
}
