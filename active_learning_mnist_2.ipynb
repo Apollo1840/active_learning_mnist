{
 "cells": [
  {
   "cell_type": "code",
   "execution_count": 1,
   "id": "86b74c0e",
   "metadata": {},
   "outputs": [],
   "source": [
    "%%capture\n",
    "from active_learning_mnist import *"
   ]
  },
  {
   "cell_type": "code",
   "execution_count": 2,
   "id": "5815d5a6",
   "metadata": {},
   "outputs": [],
   "source": [
    "def cnn():\n",
    "    model = tf.keras.models.Sequential([\n",
    "        tf.keras.layers.InputLayer(input_shape=(28, 28, 1)),\n",
    "        tf.keras.layers.Conv2D(32, kernel_size=(3, 3), activation=\"relu\"),\n",
    "        tf.keras.layers.MaxPooling2D(pool_size=(2, 2)),\n",
    "        tf.keras.layers.Conv2D(64, kernel_size=(3, 3), activation=\"relu\"),\n",
    "        tf.keras.layers.MaxPooling2D(pool_size=(2, 2)),\n",
    "        tf.keras.layers.Flatten(),\n",
    "        tf.keras.layers.Dense(128, activation=\"relu\"),\n",
    "        tf.keras.layers.Dense(10, activation=\"softmax\")\n",
    "    ])\n",
    "\n",
    "    model.compile(optimizer=\"adam\", loss=\"sparse_categorical_crossentropy\", metrics=[\"accuracy\"])\n",
    "    return model"
   ]
  },
  {
   "cell_type": "code",
   "execution_count": 3,
   "id": "3eca77bf",
   "metadata": {},
   "outputs": [],
   "source": [
    "\n",
    "def eval_prioritization_strategy(data, model, prioritizer, verbose=True):\n",
    "    \"\"\"\n",
    "\n",
    "    :param model:\n",
    "    :param prioritizer: lamdba: indices, predictions: sorted indices\n",
    "    :return:\n",
    "    \"\"\"\n",
    "    query_steps = 20\n",
    "    query_size = 16\n",
    "\n",
    "    x_train, y_train, x_test, y_test = data\n",
    "\n",
    "    train_indices = range(60000)\n",
    "\n",
    "    # First subset of data\n",
    "    selected_indices = train_indices[0:query_size]\n",
    "    x_train_subset = x_train[selected_indices, ...]\n",
    "    y_train_subset = y_train[selected_indices, ...]\n",
    "\n",
    "    test_accuracies = []\n",
    "    for i in range(query_steps):\n",
    "        selected_indices = train_indices[0:query_size]\n",
    "\n",
    "        if i > 0:\n",
    "            x_train_subset = np.concatenate((x_train_subset, x_train[selected_indices, ...]))\n",
    "            y_train_subset = np.concatenate((y_train_subset, y_train[selected_indices, ...]))\n",
    "\n",
    "        model.fit(x_train_subset, y_train_subset, epochs=5, verbose=0)\n",
    "\n",
    "        loss, accuracy = model.evaluate(x_test, y_test, verbose=0)\n",
    "        test_accuracies.append(accuracy)\n",
    "\n",
    "        if verbose:\n",
    "            print('Training data size of %d => accuracy %f' % (x_train_subset.shape[0], accuracy))\n",
    "\n",
    "        # prepare for the next step of the loop\n",
    "        rest_indices = train_indices[query_size:]\n",
    "        predictions = model.predict(x_train[rest_indices, ...])\n",
    "\n",
    "        train_indices = prioritizer(rest_indices, predictions)\n",
    "\n",
    "    print(\"- finished -\")\n",
    "    return test_accuracies"
   ]
  },
  {
   "cell_type": "code",
   "execution_count": 6,
   "id": "a807bcc1",
   "metadata": {},
   "outputs": [],
   "source": [
    "# prepare data\n",
    "mnist = tf.keras.datasets.mnist\n",
    "(x_train, y_train), (x_test, y_test) = mnist.load_data()\n",
    "x_train = x_train.reshape(-1, 28, 28, 1) / 255.0\n",
    "x_test = x_test.reshape(-1, 28, 28, 1) / 255.0\n",
    "data = x_train, y_train, x_test, y_test"
   ]
  },
  {
   "cell_type": "code",
   "execution_count": 7,
   "id": "354775d6",
   "metadata": {},
   "outputs": [
    {
     "name": "stdout",
     "output_type": "stream",
     "text": [
      "Training data size of 16 => accuracy 0.276900\n",
      "Training data size of 32 => accuracy 0.336700\n",
      "Training data size of 48 => accuracy 0.597400\n",
      "Training data size of 64 => accuracy 0.697300\n",
      "Training data size of 80 => accuracy 0.716000\n",
      "Training data size of 96 => accuracy 0.698600\n",
      "Training data size of 112 => accuracy 0.737300\n",
      "Training data size of 128 => accuracy 0.719400\n",
      "Training data size of 144 => accuracy 0.792200\n",
      "Training data size of 160 => accuracy 0.796100\n",
      "Training data size of 176 => accuracy 0.794500\n",
      "Training data size of 192 => accuracy 0.812900\n",
      "Training data size of 208 => accuracy 0.819300\n",
      "Training data size of 224 => accuracy 0.819900\n",
      "Training data size of 240 => accuracy 0.822800\n",
      "Training data size of 256 => accuracy 0.853000\n",
      "Training data size of 272 => accuracy 0.868100\n",
      "Training data size of 288 => accuracy 0.871700\n",
      "Training data size of 304 => accuracy 0.870000\n",
      "Training data size of 320 => accuracy 0.876200\n",
      "- finished -\n",
      "Training data size of 16 => accuracy 0.216200\n",
      "Training data size of 32 => accuracy 0.197500\n",
      "Training data size of 48 => accuracy 0.475900\n",
      "Training data size of 64 => accuracy 0.533300\n",
      "Training data size of 80 => accuracy 0.628500\n",
      "Training data size of 96 => accuracy 0.659100\n",
      "Training data size of 112 => accuracy 0.687200\n",
      "Training data size of 128 => accuracy 0.779400\n",
      "Training data size of 144 => accuracy 0.813600\n",
      "Training data size of 160 => accuracy 0.824400\n",
      "Training data size of 176 => accuracy 0.857200\n",
      "Training data size of 192 => accuracy 0.874900\n",
      "Training data size of 208 => accuracy 0.880700\n",
      "Training data size of 224 => accuracy 0.890800\n",
      "Training data size of 240 => accuracy 0.917400\n",
      "Training data size of 256 => accuracy 0.899600\n",
      "Training data size of 272 => accuracy 0.904400\n",
      "Training data size of 288 => accuracy 0.911700\n",
      "Training data size of 304 => accuracy 0.937800\n",
      "Training data size of 320 => accuracy 0.932100\n",
      "- finished -\n",
      "Training data size of 16 => accuracy 0.206900\n",
      "Training data size of 32 => accuracy 0.310900\n",
      "Training data size of 48 => accuracy 0.681000\n",
      "Training data size of 64 => accuracy 0.702800\n",
      "Training data size of 80 => accuracy 0.762000\n",
      "Training data size of 96 => accuracy 0.830600\n",
      "Training data size of 112 => accuracy 0.852800\n",
      "Training data size of 128 => accuracy 0.846900\n",
      "Training data size of 144 => accuracy 0.894000\n",
      "Training data size of 160 => accuracy 0.896300\n",
      "Training data size of 176 => accuracy 0.904600\n",
      "Training data size of 192 => accuracy 0.919500\n",
      "Training data size of 208 => accuracy 0.916300\n",
      "Training data size of 224 => accuracy 0.934500\n",
      "Training data size of 240 => accuracy 0.932700\n",
      "Training data size of 256 => accuracy 0.941400\n",
      "Training data size of 272 => accuracy 0.943000\n",
      "Training data size of 288 => accuracy 0.947800\n",
      "Training data size of 304 => accuracy 0.950400\n",
      "Training data size of 320 => accuracy 0.950300\n",
      "- finished -\n",
      "Training data size of 16 => accuracy 0.257900\n",
      "Training data size of 32 => accuracy 0.203600\n",
      "Training data size of 48 => accuracy 0.413800\n",
      "Training data size of 64 => accuracy 0.541700\n",
      "Training data size of 80 => accuracy 0.606000\n",
      "Training data size of 96 => accuracy 0.665200\n",
      "Training data size of 112 => accuracy 0.737200\n",
      "Training data size of 128 => accuracy 0.792600\n",
      "Training data size of 144 => accuracy 0.804500\n",
      "Training data size of 160 => accuracy 0.832900\n",
      "Training data size of 176 => accuracy 0.845000\n",
      "Training data size of 192 => accuracy 0.895400\n",
      "Training data size of 208 => accuracy 0.901700\n",
      "Training data size of 224 => accuracy 0.899000\n",
      "Training data size of 240 => accuracy 0.916900\n",
      "Training data size of 256 => accuracy 0.927700\n",
      "Training data size of 272 => accuracy 0.933500\n",
      "Training data size of 288 => accuracy 0.927600\n",
      "Training data size of 304 => accuracy 0.939800\n",
      "Training data size of 320 => accuracy 0.946700\n",
      "- finished -\n"
     ]
    }
   ],
   "source": [
    "acc_baseline = eval_prioritization_strategy(data, cnn(), trivial_strategy)\n",
    "acc_entropy = eval_prioritization_strategy(data, cnn(), max_entropy_strategy)\n",
    "acc_bt = eval_prioritization_strategy(data, cnn(), least_margin_strategy)\n",
    "acc_vr = eval_prioritization_strategy(data, cnn(), least_confidence_strategy)"
   ]
  },
  {
   "cell_type": "code",
   "execution_count": 8,
   "id": "86a2ba14",
   "metadata": {},
   "outputs": [
    {
     "data": {
      "text/plain": [
       "<matplotlib.legend.Legend at 0x7f9c085cd8b0>"
      ]
     },
     "execution_count": 8,
     "metadata": {},
     "output_type": "execute_result"
    },
    {
     "data": {
      "image/png": "[encoded data removed]",
      "text/plain": [
       "<Figure size 432x288 with 1 Axes>"
      ]
     },
     "metadata": {
      "needs_background": "light"
     },
     "output_type": "display_data"
    }
   ],
   "source": [
    "# visualize the performance difference\n",
    "plt.plot(acc_baseline, 'k', label='baseline')\n",
    "plt.plot(acc_vr, 'b', label='least confidence')\n",
    "plt.plot(acc_entropy, 'g', label='highest entropy')\n",
    "plt.plot(acc_bt, 'r', label='least margin')\n",
    "plt.legend()"
   ]
  },
  {
   "cell_type": "code",
   "execution_count": null,
   "id": "7453850f",
   "metadata": {},
   "outputs": [],
   "source": []
  }
 ],
 "metadata": {
  "kernelspec": {
   "display_name": "congyutf",
   "language": "python",
   "name": "congyutf"
  },
  "language_info": {
   "codemirror_mode": {
    "name": "ipython",
    "version": 3
   },
   "file_extension": ".py",
   "mimetype": "text/x-python",
   "name": "python",
   "nbconvert_exporter": "python",
   "pygments_lexer": "ipython3",
   "version": "3.9.5"
  }
 },
 "nbformat": 4,
 "nbformat_minor": 5
}
